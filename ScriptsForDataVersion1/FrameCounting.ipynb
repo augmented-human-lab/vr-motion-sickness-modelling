{
 "cells": [
  {
   "cell_type": "code",
   "execution_count": 39,
   "id": "a6c3e1d2-db2e-4b2e-9b6e-0036953920a1",
   "metadata": {},
   "outputs": [],
   "source": [
    "import os\n",
    "def CreateFolder(folder):\n",
    "    if not os.path.exists(folder):\n",
    "        os.mkdir(folder)\n",
    "\n"
   ]
  },
  {
   "cell_type": "code",
   "execution_count": 42,
   "id": "3c4d5139-1ec3-4735-80d0-858270de1121",
   "metadata": {},
   "outputs": [],
   "source": [
    "import csv\n",
    "import pandas as pd\n",
    "import numpy as np\n",
    "def GetNumFrames(root,csvfolders):\n",
    "    total_frames = []\n",
    "    for folder in csvfolders:\n",
    "        csvfile = root+'/'+folder+'/camera.csv'\n",
    "        # print(csvfile)\n",
    "        df = pd.read_csv(csvfile)\n",
    "        total_frames.append(df['framecounter'][len(df['framecounter'])-1])\n",
    "        \n",
    "    print(root.split('/')[-1],round(np.median(total_frames),2),round(np.mean(total_frames),2),round(np.std(total_frames),2))"
   ]
  },
  {
   "cell_type": "code",
   "execution_count": 44,
   "id": "3dda88b7-87f9-4ceb-93eb-05af54a4a1c2",
   "metadata": {},
   "outputs": [
    {
     "name": "stdout",
     "output_type": "stream",
     "text": [
      "Voxel_Shot_VR 52746.0 52988.4 2682.43\n",
      "VR_ROME 8868.0 9499.8 1134.92\n",
      "Job_Simulator 34767.0 34767.0 0.0\n",
      "Monster_awaken 24330.0 23656.2 1420.72\n",
      "Carton_Network 28059.0 27790.8 713.0\n",
      "Traffic_Cop 28419.0 28273.2 467.81\n",
      "Beat_Saber 30966.0 30877.5 1468.57\n"
     ]
    }
   ],
   "source": [
    "import glob as glob\n",
    "import os\n",
    "mother = '../DataVersion2'\n",
    "for game in glob.glob(mother+'/*'):\n",
    "    # print(game)\n",
    "    participants = os.listdir(game)\n",
    "    if '.DS_Store' in participants:\n",
    "        participants.remove('.DS_Store')\n",
    "    GetNumFrames(game,participants)\n",
    "    # break\n",
    "    "
   ]
  },
  {
   "cell_type": "code",
   "execution_count": null,
   "id": "982919cf-58af-41fe-af76-f6f291242f47",
   "metadata": {},
   "outputs": [],
   "source": []
  }
 ],
 "metadata": {
  "kernelspec": {
   "display_name": "Python 3 (ipykernel)",
   "language": "python",
   "name": "python3"
  },
  "language_info": {
   "codemirror_mode": {
    "name": "ipython",
    "version": 3
   },
   "file_extension": ".py",
   "mimetype": "text/x-python",
   "name": "python",
   "nbconvert_exporter": "python",
   "pygments_lexer": "ipython3",
   "version": "3.8.13"
  }
 },
 "nbformat": 4,
 "nbformat_minor": 5
}
