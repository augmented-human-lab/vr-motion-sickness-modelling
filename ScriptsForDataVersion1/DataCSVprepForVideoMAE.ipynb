{
 "cells": [
  {
   "cell_type": "code",
   "execution_count": 8,
   "id": "c3274f2c-899d-4567-926a-98748be5abe4",
   "metadata": {},
   "outputs": [
    {
     "name": "stdout",
     "output_type": "stream",
     "text": [
      "Requirement already satisfied: split-folders in /Users/chitralekhagupta/opt/anaconda3/envs/dssynth/lib/python3.8/site-packages (0.5.1)\n",
      "484 60 60\n"
     ]
    },
    {
     "name": "stderr",
     "output_type": "stream",
     "text": [
      "Copying files: 1812 files [00:02, 626.28 files/s]\n"
     ]
    }
   ],
   "source": [
    "# Prepare train,val,test\n",
    "!pip install split-folders\n",
    "import os\n",
    "import splitfolders\n",
    "\n",
    "\n",
    "folder = \"../DataCollected/BeatSaber/numobjVideos_15fps\"\n",
    "classes = ['low','med','high']\n",
    "labels = {classes[0]: 0, classes[1]: 1, classes[2]: 2}\n",
    "numfiles_perclass = min(len(os.listdir(folder+'/'+classes[0])),len(os.listdir(folder+'/'+classes[1])),len(os.listdir(folder+'/'+classes[2])))\n",
    "num_train = int(0.8*numfiles_perclass)\n",
    "num_val = int(0.1*numfiles_perclass)\n",
    "num_test = int(0.1*numfiles_perclass)\n",
    "print(num_train,num_val,num_test)\n",
    "\n",
    "outfolder = folder+\"_prepped\"\n",
    "splitfolders.fixed(folder, output=outfolder, seed=1337, fixed=(num_train,num_val,num_test), oversample=False, group_prefix=None, move=False)\n"
   ]
  },
  {
   "cell_type": "code",
   "execution_count": 9,
   "id": "d67da6f8-ca14-42ec-985b-69f243546198",
   "metadata": {},
   "outputs": [
    {
     "name": "stdout",
     "output_type": "stream",
     "text": [
      "{'high': 0, 'low': 1, 'med': 2}\n"
     ]
    }
   ],
   "source": [
    "# Prepare csvs\n",
    "from sklearn import preprocessing\n",
    "\n",
    "def GetLabelsDict(folder):\n",
    "    labels = {}\n",
    "    count = 0\n",
    "    for root,dirs,files in os.walk(folder):\n",
    "        for name in files:\n",
    "            if '.mp4' not in name: continue\n",
    "            label = root.split('/')[-1]\n",
    "            if label not in labels.keys():\n",
    "                labels[label] = count\n",
    "                count+=1\n",
    "#     le = preprocessing.LabelEncoder()\n",
    "#     targets = le.fit_transform(labels)\n",
    "    return labels\n",
    "\n",
    "def WriteCSV(folder,outfilename,labeldict):\n",
    "    fout = open(outfilename,'w')\n",
    "    for root,dirs,files in os.walk(folder):\n",
    "        for name in files:\n",
    "            # print(os.path.join(root, name))\n",
    "            if '.mp4' not in name: continue\n",
    "            label = root.split('/')[-1]\n",
    "            # print(label)\n",
    "            fout.write(os.path.join(root, name)+' '+str(labeldict[label])+'\\n')\n",
    "#         for name in dirs:\n",
    "#             print(os.path.join(root, name))\n",
    "#         break\n",
    "    fout.close()\n",
    "\n",
    "root = \"../DataCollected/BeatSaber/15fps_numobjexp/numobjVideos_15fps_prepped\"\n",
    "csvfolder = root+'_csvs'\n",
    "if not os.path.exists(csvfolder):\n",
    "    os.mkdir(csvfolder)\n",
    "\n",
    "labeldict = GetLabelsDict(root+'/train')\n",
    "print(labeldict)\n",
    "traincsv = csvfolder+'/train.csv'\n",
    "WriteCSV(root+'/train',traincsv,labeldict)\n",
    "\n",
    "valcsv = csvfolder+'/val.csv'\n",
    "WriteCSV(root+'/val',valcsv,labeldict)\n",
    "\n",
    "testcsv = csvfolder+'/test.csv'\n",
    "WriteCSV(root+'/test',testcsv,labeldict)\n"
   ]
  },
  {
   "cell_type": "code",
   "execution_count": null,
   "id": "9a0f2c7d-6a5d-4357-b511-d223e216c8f5",
   "metadata": {},
   "outputs": [],
   "source": []
  }
 ],
 "metadata": {
  "kernelspec": {
   "display_name": "Python 3 (ipykernel)",
   "language": "python",
   "name": "python3"
  },
  "language_info": {
   "codemirror_mode": {
    "name": "ipython",
    "version": 3
   },
   "file_extension": ".py",
   "mimetype": "text/x-python",
   "name": "python",
   "nbconvert_exporter": "python",
   "pygments_lexer": "ipython3",
   "version": "3.8.13"
  }
 },
 "nbformat": 4,
 "nbformat_minor": 5
}
